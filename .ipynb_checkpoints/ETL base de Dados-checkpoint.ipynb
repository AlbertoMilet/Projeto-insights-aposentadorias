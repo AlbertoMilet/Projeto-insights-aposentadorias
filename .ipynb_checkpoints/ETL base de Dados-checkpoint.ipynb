{
 "cells": [
  {
   "cell_type": "markdown",
   "id": "1a6af08a",
   "metadata": {},
   "source": [
    "# Projeto de Correlação entre IDEB e Aposentadoria"
   ]
  },
  {
   "cell_type": "markdown",
   "id": "3403a151",
   "metadata": {},
   "source": [
    "## Importando as Bibliotecas"
   ]
  },
  {
   "cell_type": "code",
   "execution_count": 3,
   "id": "da4b25fa",
   "metadata": {},
   "outputs": [],
   "source": [
    "import pandas as pd\n",
    "import numpy as np"
   ]
  },
  {
   "cell_type": "markdown",
   "id": "ca59b1dc",
   "metadata": {},
   "source": [
    "## Lendo os Arquivos"
   ]
  },
  {
   "cell_type": "code",
   "execution_count": 5,
   "id": "fc0791e3",
   "metadata": {},
   "outputs": [],
   "source": [
    "ideb_pe = pd.read_excel(r'C:\\Users\\Usuário\\Documents\\Data Science\\Atividades Práticas Interdisciplinares de Extensão II (Tecnologia da Informação) - D.20231.AE\\Marketing\\Idebmunpe.xlsx')"
   ]
  },
  {
   "cell_type": "code",
   "execution_count": 6,
   "id": "a9b7d7e8",
   "metadata": {},
   "outputs": [],
   "source": [
    "valor =pd.read_excel(r'C:\\Users\\Usuário\\Documents\\Data Science\\Atividades Práticas Interdisciplinares de Extensão II (Tecnologia da Informação) - D.20231.AE\\Marketing\\ben_municipios_especie_2022.xlsx')"
   ]
  },
  {
   "cell_type": "code",
   "execution_count": 7,
   "id": "626910f1",
   "metadata": {},
   "outputs": [],
   "source": [
    "qtde =pd.read_excel(r'C:\\Users\\Usuário\\Documents\\Data Science\\Atividades Práticas Interdisciplinares de Extensão II (Tecnologia da Informação) - D.20231.AE\\Marketing\\ben_municipios_clientela_2022.xlsx', header = 4)\n"
   ]
  },
  {
   "cell_type": "code",
   "execution_count": 8,
   "id": "a297a2e3",
   "metadata": {},
   "outputs": [],
   "source": [
    "geo = pd.read_excel(r'C:\\Users\\Usuário\\Documents\\Data Science\\Atividades Práticas Interdisciplinares de Extensão II (Tecnologia da Informação) - D.20231.AE\\Marketing\\geolocalização.xlsx')"
   ]
  },
  {
   "cell_type": "code",
   "execution_count": 9,
   "id": "00a18ea8",
   "metadata": {},
   "outputs": [],
   "source": [
    "ideb_br = pd.read_html(r'C:\\Users\\Usuário\\Documents\\Data Science\\Atividades Práticas Interdisciplinares de Extensão II (Tecnologia da Informação) - D.20231.AE\\Marketing\\Brasil_ Ideb por estado _ QEdu.html')"
   ]
  },
  {
   "cell_type": "markdown",
   "id": "5a01edbb",
   "metadata": {},
   "source": [
    "## Selecionando apenas os dados válidos/Ajustando os nomes das colunas"
   ]
  },
  {
   "cell_type": "code",
   "execution_count": 11,
   "id": "63dcb57a",
   "metadata": {},
   "outputs": [],
   "source": [
    "ideb_br = ideb_br[0][['Estado','IDEB']]"
   ]
  },
  {
   "cell_type": "code",
   "execution_count": 12,
   "id": "41ad9d1c",
   "metadata": {},
   "outputs": [],
   "source": [
    "valor = valor[valor['Nome '].notnull()]"
   ]
  },
  {
   "cell_type": "code",
   "execution_count": 13,
   "id": "a33e5b0c",
   "metadata": {},
   "outputs": [],
   "source": [
    "qtde = qtde[qtde['Município'].notnull()]"
   ]
  },
  {
   "cell_type": "code",
   "execution_count": 14,
   "id": "021f91c0",
   "metadata": {},
   "outputs": [],
   "source": [
    "qtde.rename(columns={'Código IBGE':'Cod. IBGE','Valor dos Benefícios Emitidos por Clientela no Ano\\n(em R$)': 'Total','Unnamed: 12': 'Urbano','Unnamed: 13':'Rural'}, inplace=True)"
   ]
  },
  {
   "cell_type": "code",
   "execution_count": 15,
   "id": "4f38e756",
   "metadata": {},
   "outputs": [],
   "source": [
    "valor.rename(columns={'Nome ': 'Município'}, inplace=True)"
   ]
  },
  {
   "cell_type": "code",
   "execution_count": 16,
   "id": "8efc50cd",
   "metadata": {},
   "outputs": [],
   "source": [
    "qtde = qtde[['Cod. IBGE','Município','Unidade da Federação','População no Município em dezembro de 2022 (*)', 'Total','Urbano','Rural']]"
   ]
  },
  {
   "cell_type": "markdown",
   "id": "fc26b77c",
   "metadata": {},
   "source": [
    "## Ajustando os Idebs para mesma escala"
   ]
  },
  {
   "cell_type": "code",
   "execution_count": 18,
   "id": "b9aa902e",
   "metadata": {},
   "outputs": [],
   "source": [
    "ideb_br['IDEB'] = ideb_br['IDEB']/10"
   ]
  },
  {
   "cell_type": "markdown",
   "id": "c9c944a8",
   "metadata": {},
   "source": [
    "## Mesclando os dtaframes"
   ]
  },
  {
   "cell_type": "code",
   "execution_count": 20,
   "id": "8c3006ff",
   "metadata": {},
   "outputs": [],
   "source": [
    "qtde = pd.merge(valor,qtde, how = 'left',on = 'Cod. IBGE')"
   ]
  },
  {
   "cell_type": "code",
   "execution_count": 21,
   "id": "81d5b8cd",
   "metadata": {},
   "outputs": [],
   "source": [
    "qtde.rename(columns={'Município_x': 'Municipio'}, inplace=True)"
   ]
  },
  {
   "cell_type": "code",
   "execution_count": 22,
   "id": "ccd7b9c2",
   "metadata": {},
   "outputs": [],
   "source": [
    "dados_previdenciarios =  pd.merge(qtde,ideb_pe, how = 'left',on = 'Municipio')"
   ]
  },
  {
   "cell_type": "code",
   "execution_count": 23,
   "id": "4def8570",
   "metadata": {},
   "outputs": [
    {
     "data": {
      "text/html": [
       "<div>\n",
       "<style scoped>\n",
       "    .dataframe tbody tr th:only-of-type {\n",
       "        vertical-align: middle;\n",
       "    }\n",
       "\n",
       "    .dataframe tbody tr th {\n",
       "        vertical-align: top;\n",
       "    }\n",
       "\n",
       "    .dataframe thead th {\n",
       "        text-align: right;\n",
       "    }\n",
       "</style>\n",
       "<table border=\"1\" class=\"dataframe\">\n",
       "  <thead>\n",
       "    <tr style=\"text-align: right;\">\n",
       "      <th></th>\n",
       "      <th>Cod. IBGE</th>\n",
       "      <th>Municipio</th>\n",
       "      <th>UF</th>\n",
       "      <th>Total de Aposentadorias</th>\n",
       "      <th>Aposentadorias por idade</th>\n",
       "      <th>Aposentadorias por invalidez</th>\n",
       "      <th>Aposentadorias por tempo de contribuição</th>\n",
       "      <th>Pensões por morte</th>\n",
       "      <th>Auxílios</th>\n",
       "      <th>Outros benefícios previdenciários</th>\n",
       "      <th>...</th>\n",
       "      <th>Total_x</th>\n",
       "      <th>População no Município em dezembro de 2022 (*)_x</th>\n",
       "      <th>Município_y</th>\n",
       "      <th>Unidade da Federação</th>\n",
       "      <th>População no Município em dezembro de 2022 (*)_y</th>\n",
       "      <th>Total_y</th>\n",
       "      <th>Urbano</th>\n",
       "      <th>Rural</th>\n",
       "      <th>IDEB</th>\n",
       "      <th>Agência</th>\n",
       "    </tr>\n",
       "  </thead>\n",
       "  <tbody>\n",
       "    <tr>\n",
       "      <th>1465</th>\n",
       "      <td>2600054</td>\n",
       "      <td>Abreu e Lima</td>\n",
       "      <td>Pernambuco</td>\n",
       "      <td>6030</td>\n",
       "      <td>2612.0</td>\n",
       "      <td>1374.0</td>\n",
       "      <td>2044.0</td>\n",
       "      <td>3073.0</td>\n",
       "      <td>440.0</td>\n",
       "      <td>181.0</td>\n",
       "      <td>...</td>\n",
       "      <td>13620.0</td>\n",
       "      <td>99331</td>\n",
       "      <td>Abreu e Lima</td>\n",
       "      <td>Pernambuco</td>\n",
       "      <td>99331</td>\n",
       "      <td>166641377.89</td>\n",
       "      <td>148865136.92</td>\n",
       "      <td>17776240.97</td>\n",
       "      <td>4.3</td>\n",
       "      <td>1.0</td>\n",
       "    </tr>\n",
       "    <tr>\n",
       "      <th>1466</th>\n",
       "      <td>2600104</td>\n",
       "      <td>Afogados da Ingazeira</td>\n",
       "      <td>Pernambuco</td>\n",
       "      <td>7543</td>\n",
       "      <td>6462.0</td>\n",
       "      <td>711.0</td>\n",
       "      <td>370.0</td>\n",
       "      <td>3042.0</td>\n",
       "      <td>877.0</td>\n",
       "      <td>106.0</td>\n",
       "      <td>...</td>\n",
       "      <td>13423.0</td>\n",
       "      <td>40120</td>\n",
       "      <td>Afogados da Ingazeira</td>\n",
       "      <td>Pernambuco</td>\n",
       "      <td>40120</td>\n",
       "      <td>174182731.63</td>\n",
       "      <td>54357261.7</td>\n",
       "      <td>119825469.93</td>\n",
       "      <td>5.1</td>\n",
       "      <td>1.0</td>\n",
       "    </tr>\n",
       "    <tr>\n",
       "      <th>1467</th>\n",
       "      <td>2600203</td>\n",
       "      <td>Afrânio</td>\n",
       "      <td>Pernambuco</td>\n",
       "      <td>2803</td>\n",
       "      <td>2498.0</td>\n",
       "      <td>260.0</td>\n",
       "      <td>45.0</td>\n",
       "      <td>822.0</td>\n",
       "      <td>191.0</td>\n",
       "      <td>14.0</td>\n",
       "      <td>...</td>\n",
       "      <td>4273.0</td>\n",
       "      <td>16486</td>\n",
       "      <td>Afrânio</td>\n",
       "      <td>Pernambuco</td>\n",
       "      <td>16486</td>\n",
       "      <td>57080417.82</td>\n",
       "      <td>6262568.08</td>\n",
       "      <td>50817849.74</td>\n",
       "      <td>4.1</td>\n",
       "      <td>0.0</td>\n",
       "    </tr>\n",
       "    <tr>\n",
       "      <th>1468</th>\n",
       "      <td>2600302</td>\n",
       "      <td>Agrestina</td>\n",
       "      <td>Pernambuco</td>\n",
       "      <td>2662</td>\n",
       "      <td>2337.0</td>\n",
       "      <td>213.0</td>\n",
       "      <td>112.0</td>\n",
       "      <td>1292.0</td>\n",
       "      <td>73.0</td>\n",
       "      <td>21.0</td>\n",
       "      <td>...</td>\n",
       "      <td>4723.0</td>\n",
       "      <td>23739</td>\n",
       "      <td>Agrestina</td>\n",
       "      <td>Pernambuco</td>\n",
       "      <td>23739</td>\n",
       "      <td>60616657.45</td>\n",
       "      <td>13200928.67</td>\n",
       "      <td>47415728.78</td>\n",
       "      <td>4.6</td>\n",
       "      <td>0.0</td>\n",
       "    </tr>\n",
       "    <tr>\n",
       "      <th>1469</th>\n",
       "      <td>2600401</td>\n",
       "      <td>Água Preta</td>\n",
       "      <td>Pernambuco</td>\n",
       "      <td>1573</td>\n",
       "      <td>1062.0</td>\n",
       "      <td>245.0</td>\n",
       "      <td>266.0</td>\n",
       "      <td>841.0</td>\n",
       "      <td>96.0</td>\n",
       "      <td>35.0</td>\n",
       "      <td>...</td>\n",
       "      <td>3371.0</td>\n",
       "      <td>26473</td>\n",
       "      <td>Água Preta</td>\n",
       "      <td>Pernambuco</td>\n",
       "      <td>26473</td>\n",
       "      <td>38450376.53</td>\n",
       "      <td>17143068.93</td>\n",
       "      <td>21307307.6</td>\n",
       "      <td>4.3</td>\n",
       "      <td>0.0</td>\n",
       "    </tr>\n",
       "    <tr>\n",
       "      <th>...</th>\n",
       "      <td>...</td>\n",
       "      <td>...</td>\n",
       "      <td>...</td>\n",
       "      <td>...</td>\n",
       "      <td>...</td>\n",
       "      <td>...</td>\n",
       "      <td>...</td>\n",
       "      <td>...</td>\n",
       "      <td>...</td>\n",
       "      <td>...</td>\n",
       "      <td>...</td>\n",
       "      <td>...</td>\n",
       "      <td>...</td>\n",
       "      <td>...</td>\n",
       "      <td>...</td>\n",
       "      <td>...</td>\n",
       "      <td>...</td>\n",
       "      <td>...</td>\n",
       "      <td>...</td>\n",
       "      <td>...</td>\n",
       "      <td>...</td>\n",
       "    </tr>\n",
       "    <tr>\n",
       "      <th>1645</th>\n",
       "      <td>2616183</td>\n",
       "      <td>Vertente do Lério</td>\n",
       "      <td>Pernambuco</td>\n",
       "      <td>787</td>\n",
       "      <td>754.0</td>\n",
       "      <td>25.0</td>\n",
       "      <td>8.0</td>\n",
       "      <td>236.0</td>\n",
       "      <td>24.0</td>\n",
       "      <td>1.0</td>\n",
       "      <td>...</td>\n",
       "      <td>1135.0</td>\n",
       "      <td>7549</td>\n",
       "      <td>Vertente do Lério</td>\n",
       "      <td>Pernambuco</td>\n",
       "      <td>7549</td>\n",
       "      <td>15173420.82</td>\n",
       "      <td>1410512.52</td>\n",
       "      <td>13762908.3</td>\n",
       "      <td>4.7</td>\n",
       "      <td>0.0</td>\n",
       "    </tr>\n",
       "    <tr>\n",
       "      <th>1646</th>\n",
       "      <td>2616209</td>\n",
       "      <td>Vertentes</td>\n",
       "      <td>Pernambuco</td>\n",
       "      <td>1411</td>\n",
       "      <td>1320.0</td>\n",
       "      <td>45.0</td>\n",
       "      <td>46.0</td>\n",
       "      <td>441.0</td>\n",
       "      <td>20.0</td>\n",
       "      <td>6.0</td>\n",
       "      <td>...</td>\n",
       "      <td>2097.0</td>\n",
       "      <td>21393</td>\n",
       "      <td>Vertentes</td>\n",
       "      <td>Pernambuco</td>\n",
       "      <td>21393</td>\n",
       "      <td>27820582.18</td>\n",
       "      <td>4375823.42</td>\n",
       "      <td>23444758.76</td>\n",
       "      <td>0.0</td>\n",
       "      <td>0.0</td>\n",
       "    </tr>\n",
       "    <tr>\n",
       "      <th>1647</th>\n",
       "      <td>2616308</td>\n",
       "      <td>Vicência</td>\n",
       "      <td>Pernambuco</td>\n",
       "      <td>2936</td>\n",
       "      <td>2239.0</td>\n",
       "      <td>240.0</td>\n",
       "      <td>457.0</td>\n",
       "      <td>1311.0</td>\n",
       "      <td>109.0</td>\n",
       "      <td>28.0</td>\n",
       "      <td>...</td>\n",
       "      <td>5100.0</td>\n",
       "      <td>26254</td>\n",
       "      <td>Vicência</td>\n",
       "      <td>Pernambuco</td>\n",
       "      <td>26254</td>\n",
       "      <td>67509829.81</td>\n",
       "      <td>22429411.68</td>\n",
       "      <td>45080418.13</td>\n",
       "      <td>4.5</td>\n",
       "      <td>0.0</td>\n",
       "    </tr>\n",
       "    <tr>\n",
       "      <th>1648</th>\n",
       "      <td>2616407</td>\n",
       "      <td>Vitória de Santo Antão</td>\n",
       "      <td>Pernambuco</td>\n",
       "      <td>12104</td>\n",
       "      <td>7855.0</td>\n",
       "      <td>1891.0</td>\n",
       "      <td>2358.0</td>\n",
       "      <td>6295.0</td>\n",
       "      <td>1226.0</td>\n",
       "      <td>261.0</td>\n",
       "      <td>...</td>\n",
       "      <td>27039.0</td>\n",
       "      <td>135182</td>\n",
       "      <td>Vitória de Santo Antão</td>\n",
       "      <td>Pernambuco</td>\n",
       "      <td>135182</td>\n",
       "      <td>326808749.38</td>\n",
       "      <td>215392694.03</td>\n",
       "      <td>111416055.35</td>\n",
       "      <td>4.8</td>\n",
       "      <td>1.0</td>\n",
       "    </tr>\n",
       "    <tr>\n",
       "      <th>1649</th>\n",
       "      <td>2616506</td>\n",
       "      <td>Xexéu</td>\n",
       "      <td>Pernambuco</td>\n",
       "      <td>408</td>\n",
       "      <td>269.0</td>\n",
       "      <td>58.0</td>\n",
       "      <td>81.0</td>\n",
       "      <td>284.0</td>\n",
       "      <td>53.0</td>\n",
       "      <td>11.0</td>\n",
       "      <td>...</td>\n",
       "      <td>1221.0</td>\n",
       "      <td>11288</td>\n",
       "      <td>Xexéu</td>\n",
       "      <td>Pernambuco</td>\n",
       "      <td>11288</td>\n",
       "      <td>11429448.28</td>\n",
       "      <td>6824732.04</td>\n",
       "      <td>4604716.24</td>\n",
       "      <td>3.7</td>\n",
       "      <td>0.0</td>\n",
       "    </tr>\n",
       "  </tbody>\n",
       "</table>\n",
       "<p>185 rows × 22 columns</p>\n",
       "</div>"
      ],
      "text/plain": [
       "     Cod. IBGE               Municipio          UF Total de Aposentadorias  \\\n",
       "1465   2600054            Abreu e Lima  Pernambuco                    6030   \n",
       "1466   2600104   Afogados da Ingazeira  Pernambuco                    7543   \n",
       "1467   2600203                 Afrânio  Pernambuco                    2803   \n",
       "1468   2600302               Agrestina  Pernambuco                    2662   \n",
       "1469   2600401              Água Preta  Pernambuco                    1573   \n",
       "...        ...                     ...         ...                     ...   \n",
       "1645   2616183       Vertente do Lério  Pernambuco                     787   \n",
       "1646   2616209               Vertentes  Pernambuco                    1411   \n",
       "1647   2616308                Vicência  Pernambuco                    2936   \n",
       "1648   2616407  Vitória de Santo Antão  Pernambuco                   12104   \n",
       "1649   2616506                   Xexéu  Pernambuco                     408   \n",
       "\n",
       "      Aposentadorias por idade  Aposentadorias por invalidez  \\\n",
       "1465                    2612.0                        1374.0   \n",
       "1466                    6462.0                         711.0   \n",
       "1467                    2498.0                         260.0   \n",
       "1468                    2337.0                         213.0   \n",
       "1469                    1062.0                         245.0   \n",
       "...                        ...                           ...   \n",
       "1645                     754.0                          25.0   \n",
       "1646                    1320.0                          45.0   \n",
       "1647                    2239.0                         240.0   \n",
       "1648                    7855.0                        1891.0   \n",
       "1649                     269.0                          58.0   \n",
       "\n",
       "      Aposentadorias por tempo de contribuição  Pensões por morte  Auxílios  \\\n",
       "1465                                    2044.0             3073.0     440.0   \n",
       "1466                                     370.0             3042.0     877.0   \n",
       "1467                                      45.0              822.0     191.0   \n",
       "1468                                     112.0             1292.0      73.0   \n",
       "1469                                     266.0              841.0      96.0   \n",
       "...                                        ...                ...       ...   \n",
       "1645                                       8.0              236.0      24.0   \n",
       "1646                                      46.0              441.0      20.0   \n",
       "1647                                     457.0             1311.0     109.0   \n",
       "1648                                    2358.0             6295.0    1226.0   \n",
       "1649                                      81.0              284.0      53.0   \n",
       "\n",
       "      Outros benefícios previdenciários  ...  Total_x  \\\n",
       "1465                              181.0  ...  13620.0   \n",
       "1466                              106.0  ...  13423.0   \n",
       "1467                               14.0  ...   4273.0   \n",
       "1468                               21.0  ...   4723.0   \n",
       "1469                               35.0  ...   3371.0   \n",
       "...                                 ...  ...      ...   \n",
       "1645                                1.0  ...   1135.0   \n",
       "1646                                6.0  ...   2097.0   \n",
       "1647                               28.0  ...   5100.0   \n",
       "1648                              261.0  ...  27039.0   \n",
       "1649                               11.0  ...   1221.0   \n",
       "\n",
       "      População no Município em dezembro de 2022 (*)_x  \\\n",
       "1465                                             99331   \n",
       "1466                                             40120   \n",
       "1467                                             16486   \n",
       "1468                                             23739   \n",
       "1469                                             26473   \n",
       "...                                                ...   \n",
       "1645                                              7549   \n",
       "1646                                             21393   \n",
       "1647                                             26254   \n",
       "1648                                            135182   \n",
       "1649                                             11288   \n",
       "\n",
       "                 Município_y Unidade da Federação  \\\n",
       "1465            Abreu e Lima           Pernambuco   \n",
       "1466   Afogados da Ingazeira           Pernambuco   \n",
       "1467                 Afrânio           Pernambuco   \n",
       "1468               Agrestina           Pernambuco   \n",
       "1469              Água Preta           Pernambuco   \n",
       "...                      ...                  ...   \n",
       "1645       Vertente do Lério           Pernambuco   \n",
       "1646               Vertentes           Pernambuco   \n",
       "1647                Vicência           Pernambuco   \n",
       "1648  Vitória de Santo Antão           Pernambuco   \n",
       "1649                   Xexéu           Pernambuco   \n",
       "\n",
       "     População no Município em dezembro de 2022 (*)_y       Total_y  \\\n",
       "1465                                            99331  166641377.89   \n",
       "1466                                            40120  174182731.63   \n",
       "1467                                            16486   57080417.82   \n",
       "1468                                            23739   60616657.45   \n",
       "1469                                            26473   38450376.53   \n",
       "...                                               ...           ...   \n",
       "1645                                             7549   15173420.82   \n",
       "1646                                            21393   27820582.18   \n",
       "1647                                            26254   67509829.81   \n",
       "1648                                           135182  326808749.38   \n",
       "1649                                            11288   11429448.28   \n",
       "\n",
       "            Urbano         Rural IDEB Agência  \n",
       "1465  148865136.92   17776240.97  4.3     1.0  \n",
       "1466    54357261.7  119825469.93  5.1     1.0  \n",
       "1467    6262568.08   50817849.74  4.1     0.0  \n",
       "1468   13200928.67   47415728.78  4.6     0.0  \n",
       "1469   17143068.93    21307307.6  4.3     0.0  \n",
       "...            ...           ...  ...     ...  \n",
       "1645    1410512.52    13762908.3  4.7     0.0  \n",
       "1646    4375823.42   23444758.76  0.0     0.0  \n",
       "1647   22429411.68   45080418.13  4.5     0.0  \n",
       "1648  215392694.03  111416055.35  4.8     1.0  \n",
       "1649    6824732.04    4604716.24  3.7     0.0  \n",
       "\n",
       "[185 rows x 22 columns]"
      ]
     },
     "execution_count": 23,
     "metadata": {},
     "output_type": "execute_result"
    }
   ],
   "source": [
    "dados_previdenciarios[dados_previdenciarios['UF'] == 'Pernambuco']"
   ]
  },
  {
   "cell_type": "code",
   "execution_count": 24,
   "id": "82b01956",
   "metadata": {},
   "outputs": [],
   "source": [
    "dados_previdenciarios = pd.merge(dados_previdenciarios,geo, how = 'left',left_on = 'Cod. IBGE' , right_on = 'CD_GEOCODMU' )"
   ]
  },
  {
   "cell_type": "code",
   "execution_count": 25,
   "id": "611150df",
   "metadata": {},
   "outputs": [],
   "source": [
    "dados_previdenciarios = pd.merge(dados_previdenciarios,ideb_br, how = 'left',left_on = 'UF' , right_on = 'Estado' )"
   ]
  },
  {
   "cell_type": "code",
   "execution_count": 26,
   "id": "29d34b10",
   "metadata": {},
   "outputs": [],
   "source": [
    "# Converter a coluna em strings explicitamente\n",
    "dados_previdenciarios['População no Município em dezembro de 2022 (*)_x'] = dados_previdenciarios['População no Município em dezembro de 2022 (*)_x'].astype(str)\n",
    "\n",
    "# Remover o parêntese e seu conteúdo usando expressão regular\n",
    "dados_previdenciarios['População no Município em dezembro de 2022 (*)_x'] = dados_previdenciarios['População no Município em dezembro de 2022 (*)_x'].str.replace(r'\\(\\d\\)', '')\n",
    "\n",
    "# Converter a coluna em números de ponto flutuante\n",
    "dados_previdenciarios['População no Município em dezembro de 2022 (*)_x'] = pd.to_numeric(dados_previdenciarios['População no Município em dezembro de 2022 (*)_x'].str.replace(',', '.'), errors='coerce')"
   ]
  },
  {
   "cell_type": "markdown",
   "id": "91515a93",
   "metadata": {},
   "source": [
    "## Renomeando colunas"
   ]
  },
  {
   "cell_type": "code",
   "execution_count": 28,
   "id": "6f1e04cc",
   "metadata": {},
   "outputs": [],
   "source": [
    "dados_previdenciarios = dados_previdenciarios.rename(columns={'IDEB_x':'IDEB_PE','IDEB_y':'IDEB'})"
   ]
  },
  {
   "cell_type": "markdown",
   "id": "b29ca19d",
   "metadata": {},
   "source": [
    "## Removendo municípios duplicados"
   ]
  },
  {
   "cell_type": "code",
   "execution_count": 30,
   "id": "c4718d19",
   "metadata": {},
   "outputs": [],
   "source": [
    "dados_previdenciarios = dados_previdenciarios.drop_duplicates(subset=['UF', 'Municipio']).reset_index(drop=True)\n"
   ]
  },
  {
   "cell_type": "markdown",
   "id": "8fa94937",
   "metadata": {},
   "source": [
    "## Removendo IDB_PE ERRADOS"
   ]
  },
  {
   "cell_type": "code",
   "execution_count": 32,
   "id": "ffe3d958",
   "metadata": {},
   "outputs": [],
   "source": [
    "# Atribuir os valores filtrados como NaN na coluna original do DataFrame\n",
    "dados_previdenciarios.loc[dados_previdenciarios['UF'] != 'Pernambuco', \"IDEB_PE\"] = pd.NA"
   ]
  },
  {
   "cell_type": "code",
   "execution_count": 33,
   "id": "71e8366b",
   "metadata": {},
   "outputs": [
    {
     "data": {
      "text/plain": [
       "Series([], Name: IDEB_PE, dtype: float64)"
      ]
     },
     "execution_count": 33,
     "metadata": {},
     "output_type": "execute_result"
    }
   ],
   "source": [
    "dados_previdenciarios[dados_previdenciarios['UF']!='Pernambuco'][\"IDEB_PE\"].dropna()"
   ]
  },
  {
   "cell_type": "markdown",
   "id": "abac6535",
   "metadata": {},
   "source": [
    "## Salvando em uma planilha excel"
   ]
  },
  {
   "cell_type": "code",
   "execution_count": 34,
   "id": "05b26844",
   "metadata": {},
   "outputs": [],
   "source": [
    "dados_previdenciarios.to_excel(r'C:\\Users\\Usuário\\Documents\\Data Science\\Atividades Práticas Interdisciplinares de Extensão II (Tecnologia da Informação) - D.20231.AE\\Marketing\\Dados_Previdenciarios.xlsx',index = False)"
   ]
  },
  {
   "cell_type": "code",
   "execution_count": null,
   "id": "f45b1f19",
   "metadata": {},
   "outputs": [],
   "source": []
  }
 ],
 "metadata": {
  "kernelspec": {
   "display_name": "Python 3 (ipykernel)",
   "language": "python",
   "name": "python3"
  },
  "language_info": {
   "codemirror_mode": {
    "name": "ipython",
    "version": 3
   },
   "file_extension": ".py",
   "mimetype": "text/x-python",
   "name": "python",
   "nbconvert_exporter": "python",
   "pygments_lexer": "ipython3",
   "version": "3.10.9"
  }
 },
 "nbformat": 4,
 "nbformat_minor": 5
}
